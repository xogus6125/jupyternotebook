{
 "cells": [
  {
   "cell_type": "code",
   "execution_count": 24,
   "id": "00dce81f",
   "metadata": {},
   "outputs": [
    {
     "name": "stdout",
     "output_type": "stream",
     "text": [
      "전체 공고는14건 입니다\n",
      "[91606447]\n",
      "22.12.19 10:17\n",
      "전체\n",
      "주식회사 디와이솔루션\n",
      "[물류하차.분류]#꿀알바 #당일지급 #동반가능 #대전#투잡가능\n",
      "대전 전체 인사담당자\n",
      "[게재중] 12/19 ~ 1/8 (상시) 게재위치\n",
      "맞춤인재 99명+\n",
      "공고조건과 딱 맞는\n",
      "인재를 확인하세요\n",
      "닫기\n",
      "근로계약서 벽보인쇄 공유하기\n",
      "조회수\n",
      "1회\n",
      "전체 지원자\n",
      "0명\n",
      "전화문자홈터치\n",
      "0회\n",
      "이공고 스크랩\n",
      "0명\n",
      "심사중\n",
      "0명\n",
      "예비합격\n",
      "0명\n",
      "합격\n",
      "0명\n",
      "불합격\n",
      "0명\n",
      "미열람\n",
      "0명\n",
      "이용중 더보기\n",
      "M 파워점프(~12/20)\n",
      "상품신청\n",
      "채용결과보고서\n",
      "수정 마감 재등록\n"
     ]
    }
   ],
   "source": [
    "from tkinter import *\n",
    "from selenium import webdriver\n",
    "from bs4 import BeautifulSoup as bs\n",
    "from selenium.webdriver.common.keys import Keys\n",
    "from selenium.webdriver.common.by import By\n",
    "from selenium.webdriver.support.ui import WebDriverWait\n",
    "from selenium.webdriver.support import expected_conditions as EC\n",
    "from selenium.webdriver.common.action_chains import ActionChains\n",
    "from selenium.webdriver.common.alert import Alert\n",
    "import time\n",
    "import pandas as pd\n",
    "import csv\n",
    "import re\n",
    "\n",
    "\n",
    "options = webdriver.ChromeOptions()\n",
    "chromedriver = r\"C:\\Users\\master\\jupyternotebook\\chromedriver.exe\"\n",
    "driver = webdriver.Chrome( options=options)\n",
    "ac = ActionChains(driver)\n",
    "html = driver.page_source\n",
    "soup = bs(html, \"html.parser\")\n",
    "driver.get(\"https://www.albamon.com/login/login_member.asp?re_url=https%3a%2f%2fwww.albamon.com%2frecruitmanager%2frecruit%2fList-Open&mtype=gi\")\n",
    "\n",
    "id = driver.find_element(By.ID, \"M_ID\")\n",
    "pw = driver.find_element(By.XPATH, \"//*[@id='M_PWD_default']\")\n",
    "login = driver.find_element(By.CLASS_NAME, \"login\")\n",
    "\n",
    "ac.click(id).send_keys(\"dj2688\").perform()\n",
    "ac.click(pw).send_keys(\"htdy1004\").perform()\n",
    "ac.click(login).perform()\n",
    "\n",
    "WebDriverWait(driver, 10).until(EC.presence_of_element_located((By.XPATH, \"//*[@id='dev_btnCloseContract02']\")))\n",
    "driver.find_element(By.XPATH, \"//*[@id='dev_btnCloseContract02']\").click()\n",
    "\n",
    "WebDriverWait(driver, 10).until(EC.presence_of_element_located((By.XPATH, \"//*[@id='allcontent']/div[2]/div[5]/p/span\")))\n",
    "recruit_num = driver.find_element(By.XPATH, \"//*[@id='allcontent']/div[2]/div[5]/p/span/em\").text\n",
    "print(f\"전체 공고는{recruit_num}건 입니다\")\n",
    "\n",
    "WebDriverWait(driver, 10).until(EC.presence_of_all_elements_located((By.XPATH, \"//*[@id='allcontent']/div[2]/div[8]\")))\n",
    "recruit_list = []\n",
    "int_recruit_num = int(recruit_num)\n",
    "num_list = []\n",
    "\n",
    "for i in range(int_recruit_num):\n",
    "    num_list.append(i + 1)\n",
    "\n",
    "for i in num_list:\n",
    "    recruit_xpath = \"/html/body/div[2]/div[2]/div[1]/div/div[2]/div[8]/table/tbody/tr[{}]\".format(i)\n",
    "    WebDriverWait(driver, 2).until(EC.presence_of_element_located((By.XPATH, recruit_xpath)))\n",
    "    recruit_text = driver.find_element(By.XPATH, recruit_xpath).text\n",
    "    recruit_list.append(recruit_text)\n"
   ]
  },
  {
   "cell_type": "code",
   "execution_count": null,
   "id": "5fea0226",
   "metadata": {},
   "outputs": [],
   "source": []
  }
 ],
 "metadata": {
  "kernelspec": {
   "display_name": "albamon",
   "language": "python",
   "name": "python3"
  },
  "language_info": {
   "codemirror_mode": {
    "name": "ipython",
    "version": 3
   },
   "file_extension": ".py",
   "mimetype": "text/x-python",
   "name": "python",
   "nbconvert_exporter": "python",
   "pygments_lexer": "ipython3",
   "version": "3.9.15"
  },
  "vscode": {
   "interpreter": {
    "hash": "8a04a8060502b57ae448869fe47122340aa17ff0ae8f2a0293054e27b2b087df"
   }
  }
 },
 "nbformat": 4,
 "nbformat_minor": 5
}
