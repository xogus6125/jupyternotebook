{
 "cells": [
  {
   "cell_type": "code",
   "execution_count": 1,
   "metadata": {},
   "outputs": [],
   "source": [
    "from tkinter import *\n",
    "from selenium import webdriver\n",
    "from bs4 import BeautifulSoup as bs\n",
    "from selenium.webdriver.common.keys import Keys\n",
    "from selenium.webdriver.common.by import By\n",
    "from selenium.webdriver.support.ui import WebDriverWait\n",
    "from selenium.webdriver.support import expected_conditions as EC\n",
    "from selenium.webdriver.common.action_chains import ActionChains\n",
    "from selenium.webdriver.common.alert import Alert\n",
    "import time\n",
    "import pandas as pd\n",
    "import csv\n",
    "import re\n",
    "\n",
    "options = webdriver.ChromeOptions()\n",
    "chromedriver = r\"C:\\Users\\master\\jupyternotebook\\chromedriver.exe\"\n",
    "driver = webdriver.Chrome( options=options)\n",
    "driver.get(\"https://www.albamon.com/login/logout_trans.asp\")\n",
    "\n",
    "resume_list = []\n",
    "match_list = []\n",
    "counter = 0\n",
    "\n",
    "WebDriverWait(driver, 1)\n",
    "driver.find_element(By.ID, \"DB_Name_GI\").click()\n",
    "driver.find_element(By.ID, \"M_ID\").send_keys(\"dj2688\")\n",
    "driver.find_element(By.ID, \"M_PWD_default\").send_keys(\"htdy1004\")\n",
    "driver.find_element(By.CLASS_NAME, \"btnLogin\").click()\n",
    "\n",
    "WebDriverWait(driver, 10).until(EC.presence_of_element_located((By.CLASS_NAME, \"guidePop\")))\n",
    "driver.find_element(By.CLASS_NAME, \"guideCloseBtn\").click()\n",
    "time.sleep(1)\n",
    "driver.find_element(By.CLASS_NAME, \"g1\").click()\n",
    "time.sleep(1)\n",
    "driver.find_element(By.CLASS_NAME, \"search-button\").click()\n",
    "\n",
    "ac = ActionChains(driver)\n",
    "time.sleep(1)\n",
    "\n"
   ]
  }
 ],
 "metadata": {
  "kernelspec": {
   "display_name": "albamon",
   "language": "python",
   "name": "python3"
  },
  "language_info": {
   "codemirror_mode": {
    "name": "ipython",
    "version": 3
   },
   "file_extension": ".py",
   "mimetype": "text/x-python",
   "name": "python",
   "nbconvert_exporter": "python",
   "pygments_lexer": "ipython3",
   "version": "3.9.15 (main, Nov 24 2022, 14:39:17) [MSC v.1916 64 bit (AMD64)]"
  },
  "orig_nbformat": 4,
  "vscode": {
   "interpreter": {
    "hash": "8a04a8060502b57ae448869fe47122340aa17ff0ae8f2a0293054e27b2b087df"
   }
  }
 },
 "nbformat": 4,
 "nbformat_minor": 2
}
