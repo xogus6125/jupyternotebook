{
 "cells": [
  {
   "cell_type": "code",
   "execution_count": 2,
   "metadata": {},
   "outputs": [
    {
     "name": "stdout",
     "output_type": "stream",
     "text": [
      "Current ChromeDriver version is C:\\Users\\master\\.wdm\\drivers\\chromedriver\\win32\\110.0.5481\\chromedriver.exe\n"
     ]
    },
    {
     "ename": "AttributeError",
     "evalue": "module 'chromedriver_autoinstaller' has no attribute 'get_installed_version'",
     "output_type": "error",
     "traceback": [
      "\u001b[1;31m---------------------------------------------------------------------------\u001b[0m",
      "\u001b[1;31mAttributeError\u001b[0m                            Traceback (most recent call last)",
      "Cell \u001b[1;32mIn[2], line 11\u001b[0m\n\u001b[0;32m      8\u001b[0m \u001b[39mprint\u001b[39m(\u001b[39mf\u001b[39m\u001b[39m\"\u001b[39m\u001b[39mCurrent ChromeDriver version is \u001b[39m\u001b[39m{\u001b[39;00mcurrent_version\u001b[39m}\u001b[39;00m\u001b[39m\"\u001b[39m)\n\u001b[0;32m     10\u001b[0m \u001b[39m# Check if the latest version of ChromeDriver is installed, and install it if necessary\u001b[39;00m\n\u001b[1;32m---> 11\u001b[0m \u001b[39mif\u001b[39;00m \u001b[39mnot\u001b[39;00m chromedriver_autoinstaller\u001b[39m.\u001b[39;49mget_installed_version()\u001b[39m.\u001b[39mstartswith(current_version\u001b[39m.\u001b[39msplit(\u001b[39m'\u001b[39m\u001b[39m.\u001b[39m\u001b[39m'\u001b[39m)[\u001b[39m0\u001b[39m]):\n\u001b[0;32m     12\u001b[0m     chromedriver_autoinstaller\u001b[39m.\u001b[39minstall()\n\u001b[0;32m     13\u001b[0m     \u001b[39mprint\u001b[39m(\u001b[39m\"\u001b[39m\u001b[39mChromeDriver updated to the latest version.\u001b[39m\u001b[39m\"\u001b[39m)\n",
      "\u001b[1;31mAttributeError\u001b[0m: module 'chromedriver_autoinstaller' has no attribute 'get_installed_version'"
     ]
    }
   ],
   "source": [
    "from selenium.webdriver.chrome.service import Service\n",
    "from selenium import webdriver\n",
    "from webdriver_manager.chrome import ChromeDriverManager\n",
    "import chromedriver_autoinstaller\n",
    "\n",
    "# Check the current version of ChromeDriver\n",
    "current_version = ChromeDriverManager().install()\n",
    "print(f\"Current ChromeDriver version is {current_version}\")\n",
    "\n",
    "# Check if the latest version of ChromeDriver is installed, and install it if necessary\n",
    "if not chromedriver_autoinstaller.get_installed_version().startswith(current_version.split('.')[0]):\n",
    "    chromedriver_autoinstaller.install()\n",
    "    print(\"ChromeDriver updated to the latest version.\")\n",
    "else:\n",
    "    print(\"ChromeDriver is already up-to-date.\")\n",
    "\n",
    "# Create a new instance of ChromeDriver using the latest version\n",
    "driver = webdriver.Chrome(service=Service())"
   ]
  }
 ],
 "metadata": {
  "kernelspec": {
   "display_name": "albamon",
   "language": "python",
   "name": "python3"
  },
  "language_info": {
   "codemirror_mode": {
    "name": "ipython",
    "version": 3
   },
   "file_extension": ".py",
   "mimetype": "text/x-python",
   "name": "python",
   "nbconvert_exporter": "python",
   "pygments_lexer": "ipython3",
   "version": "3.9.15"
  },
  "orig_nbformat": 4,
  "vscode": {
   "interpreter": {
    "hash": "8a04a8060502b57ae448869fe47122340aa17ff0ae8f2a0293054e27b2b087df"
   }
  }
 },
 "nbformat": 4,
 "nbformat_minor": 2
}
