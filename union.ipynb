{
 "cells": [
  {
   "cell_type": "code",
   "execution_count": 65,
   "id": "b26256fd",
   "metadata": {},
   "outputs": [],
   "source": [
    "import numpy as np\n",
    "import pandas as pd\n",
    "\n",
    "# 2021년 전체 입사자 찾는 프로그램\n",
    "excel_df = pd.read_excel(r\"\\\\Desktop-7gt06vc\\관리자료\\1.인원현황\\인원현황(부천)2021.xlsx\", sheet_name=\"유니온전자통신\")\n",
    "df = pd.DataFrame(excel_df)\n",
    "df_name = df['Unnamed: 1'][5:]\n",
    "df_team = df['Unnamed: 2'][5:]\n",
    "df_position = df['Unnamed: 3'][5:]\n",
    "df_join = df.iloc[5:, 4]\n",
    "df_leave = df.iloc[5:, 5]\n",
    "df_sex = df.iloc[5:, 7]\n",
    "df_phone = df.iloc[5:, 8]\n",
    "df_reason = df.iloc[5:, 12]\n",
    "\n",
    "data = []\n",
    "data.append(df_name)\n",
    "data.append(df_team)\n",
    "data.append(df_position)\n",
    "data.append(df_join)\n",
    "data.append(df_leave)\n",
    "data.append(df_sex)\n",
    "data.append(df_phone)\n",
    "data.append(df_reason)\n",
    "\n",
    "df = pd.concat([df_name, df_team, df_position, df_join, df_leave, df_sex, df_phone, df_reason], axis=1)\n",
    "df.rename(columns={'Unnamed: 1':'이름', 'Unnamed: 2':'소속', 'Unnamed: 3':'구분', 'Unnamed: 4':'입사일', 'Unnamed: 5':'퇴사일', 'Unnamed: 8':'전화번호'}, inplace=True)\n",
    "df.rename(columns={df.columns[5]: '성별', df.columns[7]: '퇴사사유'}, inplace=True)\n",
    "df['입사일'] = pd.to_datetime(df['입사일'])\n",
    "df_join_data = df['입사일'].isin(pd.date_range('2022-01-01', '2022-11-07'))\n",
    "df_join = df[df_join_data]\n",
    "\n",
    "df_join.to_excel(r\"C:\\Users\\master\\Desktop\\join_data.xlsx\", encoding='UTF-8-sig')\n"
   ]
  }
 ],
 "metadata": {
  "kernelspec": {
   "display_name": "base",
   "language": "python",
   "name": "python3"
  },
  "language_info": {
   "codemirror_mode": {
    "name": "ipython",
    "version": 3
   },
   "file_extension": ".py",
   "mimetype": "text/x-python",
   "name": "python",
   "nbconvert_exporter": "python",
   "pygments_lexer": "ipython3",
   "version": "3.9.13 (main, Aug 25 2022, 23:51:50) [MSC v.1916 64 bit (AMD64)]"
  },
  "vscode": {
   "interpreter": {
    "hash": "b386e0f253880f1199a3d50085e753843f8c3afe6b94de88331ffd15f447372b"
   }
  }
 },
 "nbformat": 4,
 "nbformat_minor": 5
}
