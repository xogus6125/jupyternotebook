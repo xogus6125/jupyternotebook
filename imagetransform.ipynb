{
 "cells": [
  {
   "cell_type": "code",
   "execution_count": 6,
   "metadata": {},
   "outputs": [
    {
     "name": "stdout",
     "output_type": "stream",
     "text": [
      "<built-in function array>\n"
     ]
    }
   ],
   "source": [
    "from PIL import Image\n",
    "import numpy as np\n",
    "\n",
    "# 이미지 파일 열기\n",
    "image = Image.open(r'C:\\Users\\master\\Desktop\\image.jpg')\n",
    "\n",
    "# 이미지를 그레이스케일로 변환 (필요한 경우)\n",
    "# image_gray = image.convert('L')\n",
    "\n",
    "# 이미지를 numpy 배열로 변환\n",
    "img_array = np.array\n",
    "\n",
    "# 배열 출력\n",
    "print(img_array)\n"
   ]
  },
  {
   "cell_type": "code",
   "execution_count": 3,
   "metadata": {},
   "outputs": [
    {
     "name": "stdout",
     "output_type": "stream",
     "text": [
      "Collecting pillow\n",
      "  Downloading Pillow-9.5.0-cp39-cp39-win_amd64.whl (2.5 MB)\n",
      "     ---------------------------------------- 2.5/2.5 MB 16.2 MB/s eta 0:00:00\n",
      "Requirement already satisfied: numpy in c:\\users\\master\\anaconda3\\envs\\albamon\\lib\\site-packages (1.23.5)\n",
      "Installing collected packages: pillow\n",
      "Successfully installed pillow-9.5.0\n"
     ]
    }
   ],
   "source": [
    "!pip install pillow numpy"
   ]
  }
 ],
 "metadata": {
  "kernelspec": {
   "display_name": "albamon",
   "language": "python",
   "name": "python3"
  },
  "language_info": {
   "codemirror_mode": {
    "name": "ipython",
    "version": 3
   },
   "file_extension": ".py",
   "mimetype": "text/x-python",
   "name": "python",
   "nbconvert_exporter": "python",
   "pygments_lexer": "ipython3",
   "version": "3.9.15"
  },
  "orig_nbformat": 4
 },
 "nbformat": 4,
 "nbformat_minor": 2
}
